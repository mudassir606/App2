{
  "cells": [
    {
      "cell_type": "code",
      "execution_count": null,
      "metadata": {
        "id": "VjYy0F2gZIPR",
        "colab": {
          "base_uri": "https://localhost:8080/"
        },
        "outputId": "29b37d34-6ecc-4499-b449-6878ae8b2ac3"
      },
      "outputs": [
        {
          "output_type": "stream",
          "name": "stdout",
          "text": [
            "Requirement already satisfied: pygit2==1.15.1 in /usr/local/lib/python3.11/dist-packages (1.15.1)\n",
            "Requirement already satisfied: cffi>=1.16.0 in /usr/local/lib/python3.11/dist-packages (from pygit2==1.15.1) (1.17.1)\n",
            "Requirement already satisfied: pycparser in /usr/local/lib/python3.11/dist-packages (from cffi>=1.16.0->pygit2==1.15.1) (2.22)\n",
            "/content\n",
            "fatal: destination path 'Fooocus' already exists and is not an empty directory.\n",
            "--2025-01-29 04:03:36--  https://huggingface.co/RunDiffusion/Juggernaut-X-v10/resolve/main/Juggernaut-X-RunDiffusion-NSFW.safetensors?download=true\n",
            "Resolving huggingface.co (huggingface.co)... 18.164.174.118, 18.164.174.55, 18.164.174.23, ...\n",
            "Connecting to huggingface.co (huggingface.co)|18.164.174.118|:443... connected.\n",
            "HTTP request sent, awaiting response... 302 Found\n",
            "Location: https://cdn-lfs-us-1.hf.co/repos/8f/7b/8f7bed93c0e32e45eb4a4e9d8c1d8523cd75505532a0004d55b8013d15f4a94d/d91d35736d8f2be038f760a9b0009a771ecf0a417e9b38c244a84ea4cb9c0c45?response-content-disposition=attachment%3B+filename*%3DUTF-8%27%27Juggernaut-X-RunDiffusion-NSFW.safetensors%3B+filename%3D%22Juggernaut-X-RunDiffusion-NSFW.safetensors%22%3B&Expires=1738127016&Policy=eyJTdGF0ZW1lbnQiOlt7IkNvbmRpdGlvbiI6eyJEYXRlTGVzc1RoYW4iOnsiQVdTOkVwb2NoVGltZSI6MTczODEyNzAxNn19LCJSZXNvdXJjZSI6Imh0dHBzOi8vY2RuLWxmcy11cy0xLmhmLmNvL3JlcG9zLzhmLzdiLzhmN2JlZDkzYzBlMzJlNDVlYjRhNGU5ZDhjMWQ4NTIzY2Q3NTUwNTUzMmEwMDA0ZDU1YjgwMTNkMTVmNGE5NGQvZDkxZDM1NzM2ZDhmMmJlMDM4Zjc2MGE5YjAwMDlhNzcxZWNmMGE0MTdlOWIzOGMyNDRhODRlYTRjYjljMGM0NT9yZXNwb25zZS1jb250ZW50LWRpc3Bvc2l0aW9uPSoifV19&Signature=A8MegBFmPSAt8CFFZ8PffRSjz8G103JJpdUzGm4J0mgx%7EWQ-e4czI4Qz2gHwTda27oZMtnunF028E8sbLk0w4KlDkTcgmx8pt-iKTE863K3NWKOhauaLy-AEo3tP1fe-o6IEvTlvOBdwGA%7EQSZqF9tJxQ-CuqxjkxgvkNX3yzGb%7EyaiCCq1Amgl5-utaPQNuBPkqGrvbhDJQNcSrkoSS4NcFWU39ivDZfUe5%7ECVkSjvOqtR0PYR6%7EqIEM0esMNOP08bI4YzjeEhHH1s67lvGwQ78byTVqVSo0JbIhF70qqeFEN2YTXYvq6vJ9MpFih4Hs9ajeQFsb6fqbkVSl1fGCw__&Key-Pair-Id=K24J24Z295AEI9 [following]\n",
            "--2025-01-29 04:03:36--  https://cdn-lfs-us-1.hf.co/repos/8f/7b/8f7bed93c0e32e45eb4a4e9d8c1d8523cd75505532a0004d55b8013d15f4a94d/d91d35736d8f2be038f760a9b0009a771ecf0a417e9b38c244a84ea4cb9c0c45?response-content-disposition=attachment%3B+filename*%3DUTF-8%27%27Juggernaut-X-RunDiffusion-NSFW.safetensors%3B+filename%3D%22Juggernaut-X-RunDiffusion-NSFW.safetensors%22%3B&Expires=1738127016&Policy=eyJTdGF0ZW1lbnQiOlt7IkNvbmRpdGlvbiI6eyJEYXRlTGVzc1RoYW4iOnsiQVdTOkVwb2NoVGltZSI6MTczODEyNzAxNn19LCJSZXNvdXJjZSI6Imh0dHBzOi8vY2RuLWxmcy11cy0xLmhmLmNvL3JlcG9zLzhmLzdiLzhmN2JlZDkzYzBlMzJlNDVlYjRhNGU5ZDhjMWQ4NTIzY2Q3NTUwNTUzMmEwMDA0ZDU1YjgwMTNkMTVmNGE5NGQvZDkxZDM1NzM2ZDhmMmJlMDM4Zjc2MGE5YjAwMDlhNzcxZWNmMGE0MTdlOWIzOGMyNDRhODRlYTRjYjljMGM0NT9yZXNwb25zZS1jb250ZW50LWRpc3Bvc2l0aW9uPSoifV19&Signature=A8MegBFmPSAt8CFFZ8PffRSjz8G103JJpdUzGm4J0mgx%7EWQ-e4czI4Qz2gHwTda27oZMtnunF028E8sbLk0w4KlDkTcgmx8pt-iKTE863K3NWKOhauaLy-AEo3tP1fe-o6IEvTlvOBdwGA%7EQSZqF9tJxQ-CuqxjkxgvkNX3yzGb%7EyaiCCq1Amgl5-utaPQNuBPkqGrvbhDJQNcSrkoSS4NcFWU39ivDZfUe5%7ECVkSjvOqtR0PYR6%7EqIEM0esMNOP08bI4YzjeEhHH1s67lvGwQ78byTVqVSo0JbIhF70qqeFEN2YTXYvq6vJ9MpFih4Hs9ajeQFsb6fqbkVSl1fGCw__&Key-Pair-Id=K24J24Z295AEI9\n",
            "Resolving cdn-lfs-us-1.hf.co (cdn-lfs-us-1.hf.co)... 18.164.174.97, 18.164.174.98, 18.164.174.52, ...\n",
            "Connecting to cdn-lfs-us-1.hf.co (cdn-lfs-us-1.hf.co)|18.164.174.97|:443... connected.\n",
            "HTTP request sent, awaiting response... 200 OK\n",
            "Length: 7105348672 (6.6G) [binary/octet-stream]\n",
            "Saving to: ‘Juggernaut-X-RunDiffusion-NSFW.safetensors’\n",
            "\n",
            ".safetensors         11%[=>                  ] 811.97M  40.1MB/s    eta 2m 30s "
          ]
        }
      ],
      "source": [
        "!pip install pygit2==1.15.1\n",
        "%cd /content\n",
        "!git clone https://github.com/lllyasviel/Fooocus.git\n",
        "\n",
        "!cd /content/Fooocus/models/checkpoints; wget https://huggingface.co/RunDiffusion/Juggernaut-X-v10/resolve/main/Juggernaut-X-RunDiffusion-NSFW.safetensors?download=true --content-disposition\n",
        "!cd /content/Fooocus/models/checkpoints; wget https://huggingface.co/SG161222/RealVisXL_V4.0/resolve/main/RealVisXL_V4.0.safetensors?download=true --content-disposition\n",
        "!cd /content/Fooocus/models/checkpoints; wget https://civitai.com/api/download/models/293240?type=Model&format=SafeTensor&size=pruned&fp=fp16 --content-disposition\n",
        "\n",
        "%cd /content/Fooocus\n",
        "!python entry_with_update.py --share --always-high-vram\n"
      ]
    },
    {
      "cell_type": "code",
      "source": [],
      "metadata": {
        "id": "qxxEKqhiH8_n"
      },
      "execution_count": null,
      "outputs": []
    }
  ],
  "metadata": {
    "accelerator": "GPU",
    "colab": {
      "gpuType": "T4",
      "provenance": []
    },
    "kernelspec": {
      "display_name": "Python 3",
      "name": "python3"
    },
    "language_info": {
      "name": "python"
    }
  },
  "nbformat": 4,
  "nbformat_minor": 0
}